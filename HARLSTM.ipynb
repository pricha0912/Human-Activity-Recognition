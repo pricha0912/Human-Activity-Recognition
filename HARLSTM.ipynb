{
 "cells": [
  {
   "cell_type": "code",
   "execution_count": 1,
   "metadata": {},
   "outputs": [
    {
     "name": "stderr",
     "output_type": "stream",
     "text": [
      "Using TensorFlow backend.\n"
     ]
    }
   ],
   "source": [
    "from numpy import mean\n",
    "from numpy import std\n",
    "from numpy import dstack\n",
    "from pandas import read_csv\n",
    "from keras.models import Sequential\n",
    "from keras.layers import Dense\n",
    "from keras.layers import Flatten\n",
    "from keras.layers import Dropout\n",
    "from keras.layers import LSTM\n",
    "from keras.layers import TimeDistributed\n",
    "from keras.layers import ConvLSTM2D, LSTM\n",
    "from keras.layers import Permute, Reshape\n",
    "from keras.layers.convolutional import MaxPooling2D\n",
    "from keras.layers.convolutional import Conv2D\n",
    "from keras.utils import to_categorical\n",
    "from matplotlib import pyplot as plt\n",
    "import seaborn as sns\n",
    "import numpy as np\n",
    "from sklearn import metrics"
   ]
  },
  {
   "cell_type": "code",
   "execution_count": 2,
   "metadata": {},
   "outputs": [],
   "source": [
    "# load a single file as a numpy array\n",
    "def load_file(filepath):\n",
    "    dataframe = read_csv(filepath, header=None, delim_whitespace=True)\n",
    "    return dataframe.values"
   ]
  },
  {
   "cell_type": "code",
   "execution_count": 3,
   "metadata": {},
   "outputs": [],
   "source": [
    "# load a list of files and return as a 3d numpy array\n",
    "def load_group(filenames, prefix=''):\n",
    "    loaded = list()\n",
    "    for name in filenames:\n",
    "        data = load_file(prefix + name)\n",
    "        loaded.append(data)\n",
    "    # stack group so that features are the 3rd dimension\n",
    "    loaded = dstack(loaded)\n",
    "    return loaded"
   ]
  },
  {
   "cell_type": "code",
   "execution_count": 4,
   "metadata": {},
   "outputs": [],
   "source": [
    "# load a dataset group, such as train or test\n",
    "def load_dataset_group(group, prefix=''):\n",
    "    filepath = prefix + group + '/Inertial Signals/'\n",
    "    print('File Path : ',filepath)\n",
    "    # load all 9 files as a single array\n",
    "    filenames = list()\n",
    "    # total acceleration\n",
    "    filenames += ['total_acc_x_'+group+'.txt', 'total_acc_y_'+group+'.txt', 'total_acc_z_'+group+'.txt']\n",
    "    # body acceleration\n",
    "    filenames += ['body_acc_x_'+group+'.txt', 'body_acc_y_'+group+'.txt', 'body_acc_z_'+group+'.txt']\n",
    "    # body gyroscope\n",
    "    filenames += ['body_gyro_x_'+group+'.txt', 'body_gyro_y_'+group+'.txt', 'body_gyro_z_'+group+'.txt']\n",
    "    # load input data\n",
    "    X = load_group(filenames, filepath)\n",
    "    # load class output\n",
    "    y = load_file(prefix + group + '/y_'+group+'.txt')\n",
    "    return X, y"
   ]
  },
  {
   "cell_type": "code",
   "execution_count": 5,
   "metadata": {},
   "outputs": [
    {
     "name": "stdout",
     "output_type": "stream",
     "text": [
      "File Path :  UCIDataset/train/Inertial Signals/\n",
      "File Path :  UCIDataset/test/Inertial Signals/\n",
      "X_train.shape :  (7352, 128, 9)\n",
      "Y_train.shape :  (7352, 6)\n",
      "X_test.shape :  (2947, 128, 9)\n",
      "Y_test.shape :  (2947, 6)\n"
     ]
    }
   ],
   "source": [
    "# load all train\n",
    "X_train, Y_train = load_dataset_group('train', 'UCIDataset/')\n",
    "# load all test\n",
    "X_test, Y_test = load_dataset_group('test', 'UCIDataset/')\n",
    "\n",
    "# zero-offset class values\n",
    "Y_train = Y_train - 1\n",
    "Y_test = Y_test - 1\n",
    "# one hot encode y\n",
    "Y_train = to_categorical(Y_train)\n",
    "Y_test = to_categorical(Y_test)\n",
    "\n",
    "print('X_train.shape : ', X_train.shape)\n",
    "print('Y_train.shape : ', Y_train.shape)\n",
    "print('X_test.shape : ', X_test.shape)\n",
    "print('Y_test.shape : ', Y_test.shape)"
   ]
  },
  {
   "cell_type": "code",
   "execution_count": 6,
   "metadata": {},
   "outputs": [],
   "source": [
    "n_timesteps = X_train.shape[1]\n",
    "n_features = X_train.shape[2]\n",
    "n_outputs = Y_train.shape[1]\n",
    "\n",
    "# reshape into subsequences (samples, time steps, rows, cols, channels)\n",
    "n_steps, n_length = 4, 32\n",
    "\n",
    "X_train = X_train.reshape((X_train.shape[0], n_steps, 1, n_length, n_features))\n",
    "X_test = X_test.reshape((X_test.shape[0], n_steps, 1, n_length, n_features))\n"
   ]
  },
  {
   "cell_type": "code",
   "execution_count": 9,
   "metadata": {},
   "outputs": [
    {
     "name": "stdout",
     "output_type": "stream",
     "text": [
      "Train on 7352 samples, validate on 2947 samples\n",
      "Epoch 1/30\n",
      "7352/7352 [==============================] - 25s 3ms/step - loss: 0.3755 - acc: 0.8502 - val_loss: 0.4906 - val_acc: 0.8663\n",
      "Epoch 2/30\n",
      "7352/7352 [==============================] - 22s 3ms/step - loss: 0.1448 - acc: 0.9423 - val_loss: 0.5214 - val_acc: 0.8816\n",
      "Epoch 3/30\n",
      "7352/7352 [==============================] - 20s 3ms/step - loss: 0.1275 - acc: 0.9480 - val_loss: 0.4795 - val_acc: 0.8867\n",
      "Epoch 4/30\n",
      "7352/7352 [==============================] - 20s 3ms/step - loss: 0.1122 - acc: 0.9523 - val_loss: 0.5431 - val_acc: 0.8962\n",
      "Epoch 5/30\n",
      "7352/7352 [==============================] - 21s 3ms/step - loss: 0.1038 - acc: 0.9550 - val_loss: 0.5811 - val_acc: 0.8823\n",
      "Epoch 6/30\n",
      "7352/7352 [==============================] - 21s 3ms/step - loss: 0.1042 - acc: 0.9567 - val_loss: 0.5740 - val_acc: 0.8951\n",
      "Epoch 7/30\n",
      "7352/7352 [==============================] - 21s 3ms/step - loss: 0.1386 - acc: 0.9524 - val_loss: 0.7587 - val_acc: 0.8656\n",
      "Epoch 8/30\n",
      "7352/7352 [==============================] - 21s 3ms/step - loss: 0.1096 - acc: 0.9561 - val_loss: 0.3053 - val_acc: 0.8928\n",
      "Epoch 9/30\n",
      "7352/7352 [==============================] - 21s 3ms/step - loss: 0.0908 - acc: 0.9599 - val_loss: 0.3396 - val_acc: 0.9114\n",
      "Epoch 10/30\n",
      "7352/7352 [==============================] - 20s 3ms/step - loss: 0.0823 - acc: 0.9626 - val_loss: 0.3680 - val_acc: 0.9209\n",
      "Epoch 11/30\n",
      "7352/7352 [==============================] - 21s 3ms/step - loss: 0.0794 - acc: 0.9644 - val_loss: 0.4161 - val_acc: 0.9175\n",
      "Epoch 12/30\n",
      "7352/7352 [==============================] - 21s 3ms/step - loss: 0.0791 - acc: 0.9649 - val_loss: 0.4387 - val_acc: 0.8979\n",
      "Epoch 13/30\n",
      "7352/7352 [==============================] - 20s 3ms/step - loss: 0.0869 - acc: 0.9625 - val_loss: 0.3954 - val_acc: 0.8918\n",
      "Epoch 14/30\n",
      "7352/7352 [==============================] - 20s 3ms/step - loss: 0.0744 - acc: 0.9676 - val_loss: 0.4029 - val_acc: 0.9253\n",
      "Epoch 15/30\n",
      "7352/7352 [==============================] - 21s 3ms/step - loss: 0.0628 - acc: 0.9703 - val_loss: 0.4427 - val_acc: 0.9199\n",
      "Epoch 16/30\n",
      "7352/7352 [==============================] - 21s 3ms/step - loss: 0.0585 - acc: 0.9736 - val_loss: 0.4908 - val_acc: 0.9141\n",
      "Epoch 17/30\n",
      "7352/7352 [==============================] - 21s 3ms/step - loss: 0.0544 - acc: 0.9742 - val_loss: 0.4779 - val_acc: 0.8897\n",
      "Epoch 18/30\n",
      "7352/7352 [==============================] - 21s 3ms/step - loss: 0.0803 - acc: 0.9723 - val_loss: 0.5165 - val_acc: 0.8907\n",
      "Epoch 19/30\n",
      "7352/7352 [==============================] - 21s 3ms/step - loss: 0.0526 - acc: 0.9770 - val_loss: 0.5612 - val_acc: 0.8951\n",
      "Epoch 20/30\n",
      "7352/7352 [==============================] - 21s 3ms/step - loss: 0.0512 - acc: 0.9761 - val_loss: 0.5928 - val_acc: 0.9026\n",
      "Epoch 21/30\n",
      "7352/7352 [==============================] - 24s 3ms/step - loss: 0.0458 - acc: 0.9786 - val_loss: 0.6664 - val_acc: 0.9043\n",
      "Epoch 22/30\n",
      "7352/7352 [==============================] - 22s 3ms/step - loss: 0.0462 - acc: 0.9797 - val_loss: 0.6987 - val_acc: 0.9002\n",
      "Epoch 23/30\n",
      "7352/7352 [==============================] - 21s 3ms/step - loss: 0.0549 - acc: 0.9770 - val_loss: 0.6197 - val_acc: 0.9016\n",
      "Epoch 24/30\n",
      "7352/7352 [==============================] - 21s 3ms/step - loss: 0.0431 - acc: 0.9805 - val_loss: 0.7729 - val_acc: 0.8704\n",
      "Epoch 25/30\n",
      "7352/7352 [==============================] - 21s 3ms/step - loss: 0.0447 - acc: 0.9807 - val_loss: 0.6113 - val_acc: 0.9074\n",
      "Epoch 26/30\n",
      "7352/7352 [==============================] - 21s 3ms/step - loss: 0.0390 - acc: 0.9820 - val_loss: 0.7475 - val_acc: 0.8948\n",
      "Epoch 27/30\n",
      "7352/7352 [==============================] - 22s 3ms/step - loss: 0.1082 - acc: 0.9727 - val_loss: 0.7156 - val_acc: 0.8850\n",
      "Epoch 28/30\n",
      "7352/7352 [==============================] - 21s 3ms/step - loss: 0.0445 - acc: 0.9823 - val_loss: 0.6652 - val_acc: 0.9046\n",
      "Epoch 29/30\n",
      "7352/7352 [==============================] - 21s 3ms/step - loss: 0.0380 - acc: 0.9834 - val_loss: 0.7477 - val_acc: 0.8921\n",
      "Epoch 30/30\n",
      "7352/7352 [==============================] - 21s 3ms/step - loss: 0.0344 - acc: 0.9846 - val_loss: 0.6711 - val_acc: 0.9165\n",
      "2947/2947 [==============================] - 2s 819us/step\n",
      "[INFO] loss=0.6711, accuracy: 91.6525%\n"
     ]
    }
   ],
   "source": [
    "verbose = 1\n",
    "epochs = 30\n",
    "batch_size = 20\n",
    "\n",
    "# define model\n",
    "model = Sequential()\n",
    "model.add(ConvLSTM2D(filters=64, kernel_size=(1,3), activation='relu', input_shape=(n_steps, 1, n_length, n_features)))\n",
    "model.add(Dropout(0.1))\n",
    "model.add(Flatten())\n",
    "model.add(Dense(128, activation='relu'))\n",
    "model.add(Dense(n_outputs, activation='softmax'))\n",
    "\n",
    "model.compile(loss='categorical_crossentropy', optimizer='adam', metrics=['accuracy'])\n",
    "\n",
    "# fit network\n",
    "hist = model.fit(X_train, Y_train, epochs=epochs, validation_data=(X_test, Y_test), batch_size=batch_size, verbose=verbose)\n",
    "\n",
    "# evaluate model\n",
    "(loss, accuracy) = model.evaluate(X_test, Y_test, batch_size=batch_size, verbose=verbose)\n",
    "print(\"[INFO] loss={:.4f}, accuracy: {:.4f}%\".format(loss, accuracy * 100))\n"
   ]
  },
  {
   "cell_type": "code",
   "execution_count": 16,
   "metadata": {},
   "outputs": [
    {
     "data": {
      "image/png": "[encoded data removed]",
      "text/plain": [
       "<Figure size 432x288 with 2 Axes>"
      ]
     },
     "metadata": {
      "needs_background": "light"
     },
     "output_type": "display_data"
    }
   ],
   "source": [
    "\n",
    "# Print confusion matrix for training data\n",
    "y_pred_train = model.predict(X_train)\n",
    "# Take the class with the highest probability from the train predictions\n",
    "max_y_pred_train = np.argmax(y_pred_train, axis=1)\n",
    "#print(classification_report(trainy, max_y_pred_train))\n",
    "\n",
    "# confusion matrix\n",
    "LABELS = ['WALKING',\n",
    "          'WALKING_UPSTAIRS',\n",
    "          'WALKING_DOWNSTAIRS',\n",
    "          'SITTING',\n",
    "          'STANDING',\n",
    "          'LAYING']\n",
    "y_pred_test = model.predict(X_test)\n",
    "# Take the class with the highest probability from the test predictions\n",
    "max_y_pred_test = np.argmax(y_pred_test, axis=1)\n",
    "max_y_test = np.argmax(Y_test, axis=1)\n",
    "\n",
    "matrix = metrics.confusion_matrix(max_y_test, max_y_pred_test)\n",
    "plt.figure(figsize=(6, 4))\n",
    "sns.heatmap(matrix,\n",
    "            cmap='PiYG_r',\n",
    "            linecolor='white',\n",
    "            linewidths=1,\n",
    "            xticklabels=LABELS,\n",
    "            yticklabels=LABELS,\n",
    "            annot=True,\n",
    "            fmt='d')\n",
    "plt.title('Confusion Matrix')\n",
    "plt.ylabel('True Label')\n",
    "plt.xlabel('Predicted Label')\n",
    "plt.show()\n"
   ]
  },
  {
   "cell_type": "code",
   "execution_count": null,
   "metadata": {},
   "outputs": [],
   "source": []
  }
 ],
 "metadata": {
  "kernelspec": {
   "display_name": "Python 3",
   "language": "python",
   "name": "python3"
  },
  "language_info": {
   "codemirror_mode": {
    "name": "ipython",
    "version": 3
   },
   "file_extension": ".py",
   "mimetype": "text/x-python",
   "name": "python",
   "nbconvert_exporter": "python",
   "pygments_lexer": "ipython3",
   "version": "3.6.7"
  }
 },
 "nbformat": 4,
 "nbformat_minor": 2
}
